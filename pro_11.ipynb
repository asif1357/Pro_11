{
 "cells": [
  {
   "cell_type": "code",
   "execution_count": 14,
   "id": "f4b5810b",
   "metadata": {},
   "outputs": [
    {
     "name": "stdout",
     "output_type": "stream",
     "text": [
      "cricket\n",
      "football\n"
     ]
    }
   ],
   "source": [
    "#prog_1\n",
    "l=[\"cricket\",\"football\",\"hockey\",\"tennis\",\"rubgy\",\"golf\"]\n",
    "mylen=6\n",
    "for i in l:\n",
    "    if len(i)>mylen:\n",
    "        print(i)"
   ]
  },
  {
   "cell_type": "code",
   "execution_count": 15,
   "id": "10b26da3",
   "metadata": {},
   "outputs": [
    {
     "name": "stdout",
     "output_type": "stream",
     "text": [
      "enter string : sample string\n",
      "enter index to be removed : \n",
      "None1\n",
      "['a', 'm', 'p', 'l', 'e', ' ', 's', 't', 'r', 'i', 'n', 'g']\n"
     ]
    }
   ],
   "source": [
    "#removing char frm desired index\n",
    "s=input(\"enter string : \")\n",
    "l1=list(s)\n",
    "ind=int(input(print(\"enter index to be removed : \")))\n",
    "l1.remove(l1[ind-1])\n",
    "print(str(l1))"
   ]
  },
  {
   "cell_type": "code",
   "execution_count": 16,
   "id": "caa93192",
   "metadata": {},
   "outputs": [
    {
     "name": "stdout",
     "output_type": "stream",
     "text": [
      "not a binary string\n"
     ]
    }
   ],
   "source": [
    "#checking for binary sring\n",
    "s1=\"00110101110a\"\n",
    "for i in range(0,len(s1)):\n",
    "    if (s1[i]!='0') and (s1[i]!='1'):\n",
    "        \n",
    "        print(\"not a binary string\")\n",
    "        flag=1\n",
    "        break\n",
    "    else:\n",
    "        continue\n",
    "        \n",
    "         \n",
    "if i==len(s1)-1 and (s1[-1]=='1' or s1[-1]=='0') :\n",
    "    print(\"binary string\")        \n",
    "        "
   ]
  },
  {
   "cell_type": "code",
   "execution_count": 17,
   "id": "9bb719f3",
   "metadata": {},
   "outputs": [
    {
     "name": "stdout",
     "output_type": "stream",
     "text": [
      "['i', 'n', 'd', 't', 's']\n"
     ]
    }
   ],
   "source": [
    "#duplicate characters\n",
    "string = \"findduplicatesinthis\"\n",
    "duplicates = []\n",
    "for char in string:\n",
    "       if string.count(char) > 1:\n",
    "            if char not in duplicates:\n",
    "                   duplicates.append(char)\n",
    "print(duplicates)"
   ]
  },
  {
   "cell_type": "code",
   "execution_count": 18,
   "id": "d59a6f02",
   "metadata": {},
   "outputs": [
    {
     "name": "stdout",
     "output_type": "stream",
     "text": [
      "enter string : cbdsjbfjlsbls&\n",
      "the given string contains special char\n"
     ]
    }
   ],
   "source": [
    "#check for special character\n",
    "spe='[@_!#$%^&*()<>?/\\|}{~:]'\n",
    "s=input(\"enter string : \")\n",
    "for i in s:\n",
    "    if i in spe:\n",
    "        print(\"the given string contains special char\")\n",
    "        break\n",
    "        \n",
    "    else:\n",
    "        continue\n",
    "if i==s[-1] and s[-1] not in spe:\n",
    "    print(\"no special char\")\n",
    "        "
   ]
  },
  {
   "cell_type": "code",
   "execution_count": 23,
   "id": "ca76983a",
   "metadata": {},
   "outputs": [],
   "source": [
    "#join str in given list\n",
    "s2=\"-\".join(l)"
   ]
  },
  {
   "cell_type": "code",
   "execution_count": 24,
   "id": "e628f2bd",
   "metadata": {},
   "outputs": [
    {
     "data": {
      "text/plain": [
       "'cricket-football-hockey-tennis-rubgy-golf'"
      ]
     },
     "execution_count": 24,
     "metadata": {},
     "output_type": "execute_result"
    }
   ],
   "source": [
    "s2\n"
   ]
  },
  {
   "cell_type": "code",
   "execution_count": 34,
   "id": "65433d2a",
   "metadata": {},
   "outputs": [],
   "source": [
    "#splitting a string\n",
    "s3=s2.split('c')"
   ]
  },
  {
   "cell_type": "code",
   "execution_count": 35,
   "id": "19b44f2d",
   "metadata": {},
   "outputs": [
    {
     "data": {
      "text/plain": [
       "['', 'ri', 'ket-football-ho', 'key-tennis-rubgy-golf']"
      ]
     },
     "execution_count": 35,
     "metadata": {},
     "output_type": "execute_result"
    }
   ],
   "source": [
    "s3"
   ]
  },
  {
   "cell_type": "code",
   "execution_count": null,
   "id": "3fc904c3",
   "metadata": {},
   "outputs": [],
   "source": []
  }
 ],
 "metadata": {
  "kernelspec": {
   "display_name": "Python 3 (ipykernel)",
   "language": "python",
   "name": "python3"
  },
  "language_info": {
   "codemirror_mode": {
    "name": "ipython",
    "version": 3
   },
   "file_extension": ".py",
   "mimetype": "text/x-python",
   "name": "python",
   "nbconvert_exporter": "python",
   "pygments_lexer": "ipython3",
   "version": "3.9.12"
  }
 },
 "nbformat": 4,
 "nbformat_minor": 5
}
